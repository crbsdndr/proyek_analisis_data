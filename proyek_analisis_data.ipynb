{
 "cells": [
  {
   "cell_type": "markdown",
   "metadata": {
    "id": "H9wADwK78DCz"
   },
   "source": [
    "# Proyek Analisis Data: Air Quality in Huairou & Changping\n",
    "- **Nama:** Mochamad Dendra Dwi Pratama Putra\n",
    "- **Email:** artrialazz@gmail.com\n",
    "- **ID Dicoding:** @crbsdndr"
   ]
  },
  {
   "cell_type": "markdown",
   "metadata": {
    "id": "eE0raob58DC0"
   },
   "source": [
    "## Menentukan Pertanyaan Bisnis"
   ]
  },
  {
   "cell_type": "markdown",
   "metadata": {
    "id": "GmQeQ5YF8DC0"
   },
   "source": [
    "- Bagaimana kualitas udara di kedua lokasi dari waktu ke waktu?\n",
    "- Apakah meteorologi berpengaruh terhadap buruknya kualitas udara?\n",
    "- Apakah kualitas udara memburuk saat waktu produtif manusia (8am - 9pm (src: Sistem 896 di perusahaan China))?"
   ]
  },
  {
   "cell_type": "markdown",
   "metadata": {
    "id": "H-z4QGlO8DC1"
   },
   "source": [
    "## Import Semua Packages/Library yang Digunakan"
   ]
  },
  {
   "cell_type": "code",
   "execution_count": 7,
   "metadata": {
    "ExecuteTime": {
     "end_time": "2025-02-09T14:42:00.078353Z",
     "start_time": "2025-02-09T14:42:00.074104Z"
    },
    "id": "FVYwaObI8DC1"
   },
   "outputs": [],
   "source": [
    "import pandas as pd\n",
    "import matplotlib.pyplot as plt"
   ]
  },
  {
   "cell_type": "markdown",
   "metadata": {
    "id": "h_Sh51Xy8DC1"
   },
   "source": [
    "## Data Wrangling"
   ]
  },
  {
   "cell_type": "markdown",
   "metadata": {
    "id": "sXU2GBYu8DC1"
   },
   "source": [
    "### Gathering Data"
   ]
  },
  {
   "cell_type": "markdown",
   "metadata": {},
   "source": [
    "**Information:** <br>\n",
    "No: row number\n",
    "year: year of data in this row <br>\n",
    "month: month of data in this row <br>\n",
    "day: day of data in this row <br>\n",
    "hour: hour of data in this row <br>\n",
    "PM2.5: PM2.5 concentration (ug/m^3) <br>\n",
    "PM10: PM10 concentration (ug/m^3) <br>\n",
    "SO2: SO2 concentration (ug/m^3) <br>\n",
    "NO2: NO2 concentration (ug/m^3) <br>\n",
    "CO: CO concentration (ug/m^3) <br>\n",
    "O3: O3 concentration (ug/m^3) <br>\n",
    "TEMP: temperature (degree Celsius) <br>\n",
    "PRES: pressure (hPa) <br>\n",
    "DEWP: dew point temperature (degree Celsius) <br>\n",
    "RAIN: precipitation (mm) <br>\n",
    "wd: wind direction <br>\n",
    "WSPM: wind speed (m/s) <br>\n",
    "station: name of the air-quality monitoring site"
   ]
  },
  {
   "cell_type": "code",
   "execution_count": 8,
   "metadata": {
    "ExecuteTime": {
     "end_time": "2025-02-09T14:42:00.273337Z",
     "start_time": "2025-02-09T14:42:00.132361Z"
    },
    "id": "zjCBk1BI8DC1"
   },
   "outputs": [],
   "source": [
    "# Load dataset\n",
    "huairou = pd.read_csv(\"./data/PRSA_Data_Huairou_20130301-20170228.csv\")\n",
    "changping = pd.read_csv(\"./data/PRSA_Data_Changping_20130301-20170228.csv\")"
   ]
  },
  {
   "cell_type": "code",
   "execution_count": 9,
   "metadata": {
    "ExecuteTime": {
     "end_time": "2025-02-09T14:42:00.304949Z",
     "start_time": "2025-02-09T14:42:00.283950Z"
    },
    "colab": {
     "base_uri": "https://localhost:8080/",
     "height": 206
    },
    "id": "eFDk50WADgPL",
    "outputId": "e26420dc-f666-4d2a-c5b6-c0f381083403"
   },
   "outputs": [
    {
     "data": {
      "text/html": [
       "<div>\n",
       "<style scoped>\n",
       "    .dataframe tbody tr th:only-of-type {\n",
       "        vertical-align: middle;\n",
       "    }\n",
       "\n",
       "    .dataframe tbody tr th {\n",
       "        vertical-align: top;\n",
       "    }\n",
       "\n",
       "    .dataframe thead th {\n",
       "        text-align: right;\n",
       "    }\n",
       "</style>\n",
       "<table border=\"1\" class=\"dataframe\">\n",
       "  <thead>\n",
       "    <tr style=\"text-align: right;\">\n",
       "      <th></th>\n",
       "      <th>No</th>\n",
       "      <th>year</th>\n",
       "      <th>month</th>\n",
       "      <th>day</th>\n",
       "      <th>hour</th>\n",
       "      <th>PM2.5</th>\n",
       "      <th>PM10</th>\n",
       "      <th>SO2</th>\n",
       "      <th>NO2</th>\n",
       "      <th>CO</th>\n",
       "      <th>O3</th>\n",
       "      <th>TEMP</th>\n",
       "      <th>PRES</th>\n",
       "      <th>DEWP</th>\n",
       "      <th>RAIN</th>\n",
       "      <th>wd</th>\n",
       "      <th>WSPM</th>\n",
       "      <th>station</th>\n",
       "    </tr>\n",
       "  </thead>\n",
       "  <tbody>\n",
       "    <tr>\n",
       "      <th>0</th>\n",
       "      <td>1</td>\n",
       "      <td>2013</td>\n",
       "      <td>3</td>\n",
       "      <td>1</td>\n",
       "      <td>0</td>\n",
       "      <td>7.0</td>\n",
       "      <td>7.0</td>\n",
       "      <td>3.0</td>\n",
       "      <td>2.0</td>\n",
       "      <td>100.0</td>\n",
       "      <td>91.0</td>\n",
       "      <td>-2.3</td>\n",
       "      <td>1020.3</td>\n",
       "      <td>-20.7</td>\n",
       "      <td>0.0</td>\n",
       "      <td>WNW</td>\n",
       "      <td>3.1</td>\n",
       "      <td>Huairou</td>\n",
       "    </tr>\n",
       "    <tr>\n",
       "      <th>1</th>\n",
       "      <td>2</td>\n",
       "      <td>2013</td>\n",
       "      <td>3</td>\n",
       "      <td>1</td>\n",
       "      <td>1</td>\n",
       "      <td>4.0</td>\n",
       "      <td>4.0</td>\n",
       "      <td>3.0</td>\n",
       "      <td>NaN</td>\n",
       "      <td>100.0</td>\n",
       "      <td>92.0</td>\n",
       "      <td>-2.7</td>\n",
       "      <td>1020.8</td>\n",
       "      <td>-20.5</td>\n",
       "      <td>0.0</td>\n",
       "      <td>NNW</td>\n",
       "      <td>1.5</td>\n",
       "      <td>Huairou</td>\n",
       "    </tr>\n",
       "    <tr>\n",
       "      <th>2</th>\n",
       "      <td>3</td>\n",
       "      <td>2013</td>\n",
       "      <td>3</td>\n",
       "      <td>1</td>\n",
       "      <td>2</td>\n",
       "      <td>4.0</td>\n",
       "      <td>4.0</td>\n",
       "      <td>NaN</td>\n",
       "      <td>NaN</td>\n",
       "      <td>100.0</td>\n",
       "      <td>91.0</td>\n",
       "      <td>-3.2</td>\n",
       "      <td>1020.6</td>\n",
       "      <td>-21.4</td>\n",
       "      <td>0.0</td>\n",
       "      <td>NW</td>\n",
       "      <td>1.8</td>\n",
       "      <td>Huairou</td>\n",
       "    </tr>\n",
       "    <tr>\n",
       "      <th>3</th>\n",
       "      <td>4</td>\n",
       "      <td>2013</td>\n",
       "      <td>3</td>\n",
       "      <td>1</td>\n",
       "      <td>3</td>\n",
       "      <td>3.0</td>\n",
       "      <td>3.0</td>\n",
       "      <td>3.0</td>\n",
       "      <td>2.0</td>\n",
       "      <td>NaN</td>\n",
       "      <td>NaN</td>\n",
       "      <td>-3.3</td>\n",
       "      <td>1021.3</td>\n",
       "      <td>-23.7</td>\n",
       "      <td>0.0</td>\n",
       "      <td>NNW</td>\n",
       "      <td>2.4</td>\n",
       "      <td>Huairou</td>\n",
       "    </tr>\n",
       "    <tr>\n",
       "      <th>4</th>\n",
       "      <td>5</td>\n",
       "      <td>2013</td>\n",
       "      <td>3</td>\n",
       "      <td>1</td>\n",
       "      <td>4</td>\n",
       "      <td>3.0</td>\n",
       "      <td>3.0</td>\n",
       "      <td>7.0</td>\n",
       "      <td>NaN</td>\n",
       "      <td>300.0</td>\n",
       "      <td>86.0</td>\n",
       "      <td>-4.1</td>\n",
       "      <td>1022.1</td>\n",
       "      <td>-22.7</td>\n",
       "      <td>0.0</td>\n",
       "      <td>NNW</td>\n",
       "      <td>2.2</td>\n",
       "      <td>Huairou</td>\n",
       "    </tr>\n",
       "  </tbody>\n",
       "</table>\n",
       "</div>"
      ],
      "text/plain": [
       "   No  year  month  day  hour  PM2.5  PM10  SO2  NO2     CO    O3  TEMP  \\\n",
       "0   1  2013      3    1     0    7.0   7.0  3.0  2.0  100.0  91.0  -2.3   \n",
       "1   2  2013      3    1     1    4.0   4.0  3.0  NaN  100.0  92.0  -2.7   \n",
       "2   3  2013      3    1     2    4.0   4.0  NaN  NaN  100.0  91.0  -3.2   \n",
       "3   4  2013      3    1     3    3.0   3.0  3.0  2.0    NaN   NaN  -3.3   \n",
       "4   5  2013      3    1     4    3.0   3.0  7.0  NaN  300.0  86.0  -4.1   \n",
       "\n",
       "     PRES  DEWP  RAIN   wd  WSPM  station  \n",
       "0  1020.3 -20.7   0.0  WNW   3.1  Huairou  \n",
       "1  1020.8 -20.5   0.0  NNW   1.5  Huairou  \n",
       "2  1020.6 -21.4   0.0   NW   1.8  Huairou  \n",
       "3  1021.3 -23.7   0.0  NNW   2.4  Huairou  \n",
       "4  1022.1 -22.7   0.0  NNW   2.2  Huairou  "
      ]
     },
     "execution_count": 9,
     "metadata": {},
     "output_type": "execute_result"
    }
   ],
   "source": [
    "huairou.head()"
   ]
  },
  {
   "cell_type": "code",
   "execution_count": 10,
   "metadata": {
    "ExecuteTime": {
     "end_time": "2025-02-09T14:42:00.410469Z",
     "start_time": "2025-02-09T14:42:00.385683Z"
    },
    "colab": {
     "base_uri": "https://localhost:8080/",
     "height": 206
    },
    "id": "gJGkQ2PYDj0l",
    "outputId": "b8cde3d0-1642-434f-b264-0f435b11e63e"
   },
   "outputs": [
    {
     "data": {
      "text/html": [
       "<div>\n",
       "<style scoped>\n",
       "    .dataframe tbody tr th:only-of-type {\n",
       "        vertical-align: middle;\n",
       "    }\n",
       "\n",
       "    .dataframe tbody tr th {\n",
       "        vertical-align: top;\n",
       "    }\n",
       "\n",
       "    .dataframe thead th {\n",
       "        text-align: right;\n",
       "    }\n",
       "</style>\n",
       "<table border=\"1\" class=\"dataframe\">\n",
       "  <thead>\n",
       "    <tr style=\"text-align: right;\">\n",
       "      <th></th>\n",
       "      <th>No</th>\n",
       "      <th>year</th>\n",
       "      <th>month</th>\n",
       "      <th>day</th>\n",
       "      <th>hour</th>\n",
       "      <th>PM2.5</th>\n",
       "      <th>PM10</th>\n",
       "      <th>SO2</th>\n",
       "      <th>NO2</th>\n",
       "      <th>CO</th>\n",
       "      <th>O3</th>\n",
       "      <th>TEMP</th>\n",
       "      <th>PRES</th>\n",
       "      <th>DEWP</th>\n",
       "      <th>RAIN</th>\n",
       "      <th>wd</th>\n",
       "      <th>WSPM</th>\n",
       "      <th>station</th>\n",
       "    </tr>\n",
       "  </thead>\n",
       "  <tbody>\n",
       "    <tr>\n",
       "      <th>0</th>\n",
       "      <td>1</td>\n",
       "      <td>2013</td>\n",
       "      <td>3</td>\n",
       "      <td>1</td>\n",
       "      <td>0</td>\n",
       "      <td>3.0</td>\n",
       "      <td>6.0</td>\n",
       "      <td>13.0</td>\n",
       "      <td>7.0</td>\n",
       "      <td>300.0</td>\n",
       "      <td>85.0</td>\n",
       "      <td>-2.3</td>\n",
       "      <td>1020.8</td>\n",
       "      <td>-19.7</td>\n",
       "      <td>0.0</td>\n",
       "      <td>E</td>\n",
       "      <td>0.5</td>\n",
       "      <td>Changping</td>\n",
       "    </tr>\n",
       "    <tr>\n",
       "      <th>1</th>\n",
       "      <td>2</td>\n",
       "      <td>2013</td>\n",
       "      <td>3</td>\n",
       "      <td>1</td>\n",
       "      <td>1</td>\n",
       "      <td>3.0</td>\n",
       "      <td>3.0</td>\n",
       "      <td>6.0</td>\n",
       "      <td>6.0</td>\n",
       "      <td>300.0</td>\n",
       "      <td>85.0</td>\n",
       "      <td>-2.5</td>\n",
       "      <td>1021.3</td>\n",
       "      <td>-19.0</td>\n",
       "      <td>0.0</td>\n",
       "      <td>ENE</td>\n",
       "      <td>0.7</td>\n",
       "      <td>Changping</td>\n",
       "    </tr>\n",
       "    <tr>\n",
       "      <th>2</th>\n",
       "      <td>3</td>\n",
       "      <td>2013</td>\n",
       "      <td>3</td>\n",
       "      <td>1</td>\n",
       "      <td>2</td>\n",
       "      <td>3.0</td>\n",
       "      <td>3.0</td>\n",
       "      <td>22.0</td>\n",
       "      <td>13.0</td>\n",
       "      <td>400.0</td>\n",
       "      <td>74.0</td>\n",
       "      <td>-3.0</td>\n",
       "      <td>1021.3</td>\n",
       "      <td>-19.9</td>\n",
       "      <td>0.0</td>\n",
       "      <td>ENE</td>\n",
       "      <td>0.2</td>\n",
       "      <td>Changping</td>\n",
       "    </tr>\n",
       "    <tr>\n",
       "      <th>3</th>\n",
       "      <td>4</td>\n",
       "      <td>2013</td>\n",
       "      <td>3</td>\n",
       "      <td>1</td>\n",
       "      <td>3</td>\n",
       "      <td>3.0</td>\n",
       "      <td>6.0</td>\n",
       "      <td>12.0</td>\n",
       "      <td>8.0</td>\n",
       "      <td>300.0</td>\n",
       "      <td>81.0</td>\n",
       "      <td>-3.6</td>\n",
       "      <td>1021.8</td>\n",
       "      <td>-19.1</td>\n",
       "      <td>0.0</td>\n",
       "      <td>NNE</td>\n",
       "      <td>1.0</td>\n",
       "      <td>Changping</td>\n",
       "    </tr>\n",
       "    <tr>\n",
       "      <th>4</th>\n",
       "      <td>5</td>\n",
       "      <td>2013</td>\n",
       "      <td>3</td>\n",
       "      <td>1</td>\n",
       "      <td>4</td>\n",
       "      <td>3.0</td>\n",
       "      <td>3.0</td>\n",
       "      <td>14.0</td>\n",
       "      <td>8.0</td>\n",
       "      <td>300.0</td>\n",
       "      <td>81.0</td>\n",
       "      <td>-3.5</td>\n",
       "      <td>1022.3</td>\n",
       "      <td>-19.4</td>\n",
       "      <td>0.0</td>\n",
       "      <td>N</td>\n",
       "      <td>2.1</td>\n",
       "      <td>Changping</td>\n",
       "    </tr>\n",
       "  </tbody>\n",
       "</table>\n",
       "</div>"
      ],
      "text/plain": [
       "   No  year  month  day  hour  PM2.5  PM10   SO2   NO2     CO    O3  TEMP  \\\n",
       "0   1  2013      3    1     0    3.0   6.0  13.0   7.0  300.0  85.0  -2.3   \n",
       "1   2  2013      3    1     1    3.0   3.0   6.0   6.0  300.0  85.0  -2.5   \n",
       "2   3  2013      3    1     2    3.0   3.0  22.0  13.0  400.0  74.0  -3.0   \n",
       "3   4  2013      3    1     3    3.0   6.0  12.0   8.0  300.0  81.0  -3.6   \n",
       "4   5  2013      3    1     4    3.0   3.0  14.0   8.0  300.0  81.0  -3.5   \n",
       "\n",
       "     PRES  DEWP  RAIN   wd  WSPM    station  \n",
       "0  1020.8 -19.7   0.0    E   0.5  Changping  \n",
       "1  1021.3 -19.0   0.0  ENE   0.7  Changping  \n",
       "2  1021.3 -19.9   0.0  ENE   0.2  Changping  \n",
       "3  1021.8 -19.1   0.0  NNE   1.0  Changping  \n",
       "4  1022.3 -19.4   0.0    N   2.1  Changping  "
      ]
     },
     "execution_count": 10,
     "metadata": {},
     "output_type": "execute_result"
    }
   ],
   "source": [
    "changping.head()"
   ]
  },
  {
   "cell_type": "markdown",
   "metadata": {
    "id": "MMi6xGaDkbCi"
   },
   "source": [
    "**Insight:**\n",
    "- Hal yang saya temukan pada dataset ini adalah terdapat fitur waktu seperti fitur (year, month, day, hour). Dengan fitur ini saya bisa melacak kapan kualitas udara di sekitar menjadi kotor atau bersih, apakah kualitas udaranya semakin baik waktu ke waktu.\n",
    "- Terdapat fitur polutan udara seperti (PM2.5, PM10, SO2, NO2, CO, O3). Fitur fitur ini bisa digunakan untuk mengecek kualitas udara, tampak fitur fitur tersebut menggunakan mikrogram per meter kubik sebagai unit pengukurannya.\n",
    "- Terdapat fitur cuaca disekitar seperti (TEMP, PRES, DEWP, RAIN, wd, WSPM). Fitur fitur tersebut dapat digunakan untuk mengidentifikasi bagaimana fitur fitur cuaca tersebut berpengaruh terhadap tingginya atau rendahnya nilai fitur fitur polutan udara.\n",
    "- Dan terakhir terdapat fitur lokasi yaitu stasiun sebagai lokasi yang ingin saya identifikasi kualitas udaranya."
   ]
  },
  {
   "cell_type": "markdown",
   "metadata": {
    "id": "FHSiqaZp8DC1"
   },
   "source": [
    "### Assessing Data"
   ]
  },
  {
   "cell_type": "code",
   "execution_count": 11,
   "metadata": {
    "ExecuteTime": {
     "end_time": "2025-02-09T14:42:00.528090Z",
     "start_time": "2025-02-09T14:42:00.513400Z"
    },
    "colab": {
     "base_uri": "https://localhost:8080/"
    },
    "id": "ax-3tEjc9Cj1",
    "outputId": "5047cc6d-3bd2-4a37-9bbc-15abc196e35f"
   },
   "outputs": [
    {
     "name": "stdout",
     "output_type": "stream",
     "text": [
      "<class 'pandas.core.frame.DataFrame'>\n",
      "RangeIndex: 35064 entries, 0 to 35063\n",
      "Data columns (total 18 columns):\n",
      " #   Column   Non-Null Count  Dtype  \n",
      "---  ------   --------------  -----  \n",
      " 0   No       35064 non-null  int64  \n",
      " 1   year     35064 non-null  int64  \n",
      " 2   month    35064 non-null  int64  \n",
      " 3   day      35064 non-null  int64  \n",
      " 4   hour     35064 non-null  int64  \n",
      " 5   PM2.5    34111 non-null  float64\n",
      " 6   PM10     34287 non-null  float64\n",
      " 7   SO2      34084 non-null  float64\n",
      " 8   NO2      33425 non-null  float64\n",
      " 9   CO       33642 non-null  float64\n",
      " 10  O3       33913 non-null  float64\n",
      " 11  TEMP     35013 non-null  float64\n",
      " 12  PRES     35011 non-null  float64\n",
      " 13  DEWP     35011 non-null  float64\n",
      " 14  RAIN     35009 non-null  float64\n",
      " 15  wd       34762 non-null  object \n",
      " 16  WSPM     35015 non-null  float64\n",
      " 17  station  35064 non-null  object \n",
      "dtypes: float64(11), int64(5), object(2)\n",
      "memory usage: 4.8+ MB\n"
     ]
    }
   ],
   "source": [
    "huairou.info()"
   ]
  },
  {
   "cell_type": "code",
   "execution_count": 12,
   "metadata": {
    "ExecuteTime": {
     "end_time": "2025-02-09T14:42:00.709628Z",
     "start_time": "2025-02-09T14:42:00.648474Z"
    },
    "colab": {
     "base_uri": "https://localhost:8080/",
     "height": 414
    },
    "id": "d4MQjWxMgmIc",
    "outputId": "a2de6e9b-a969-4bd0-f5b7-8355c017b116"
   },
   "outputs": [
    {
     "data": {
      "text/html": [
       "<div>\n",
       "<style scoped>\n",
       "    .dataframe tbody tr th:only-of-type {\n",
       "        vertical-align: middle;\n",
       "    }\n",
       "\n",
       "    .dataframe tbody tr th {\n",
       "        vertical-align: top;\n",
       "    }\n",
       "\n",
       "    .dataframe thead th {\n",
       "        text-align: right;\n",
       "    }\n",
       "</style>\n",
       "<table border=\"1\" class=\"dataframe\">\n",
       "  <thead>\n",
       "    <tr style=\"text-align: right;\">\n",
       "      <th></th>\n",
       "      <th>No</th>\n",
       "      <th>year</th>\n",
       "      <th>month</th>\n",
       "      <th>day</th>\n",
       "      <th>hour</th>\n",
       "      <th>PM2.5</th>\n",
       "      <th>PM10</th>\n",
       "      <th>SO2</th>\n",
       "      <th>NO2</th>\n",
       "      <th>CO</th>\n",
       "      <th>O3</th>\n",
       "      <th>TEMP</th>\n",
       "      <th>PRES</th>\n",
       "      <th>DEWP</th>\n",
       "      <th>RAIN</th>\n",
       "      <th>WSPM</th>\n",
       "    </tr>\n",
       "  </thead>\n",
       "  <tbody>\n",
       "    <tr>\n",
       "      <th>count</th>\n",
       "      <td>35064.000000</td>\n",
       "      <td>35064.000000</td>\n",
       "      <td>35064.000000</td>\n",
       "      <td>35064.000000</td>\n",
       "      <td>35064.000000</td>\n",
       "      <td>34111.000000</td>\n",
       "      <td>34287.000000</td>\n",
       "      <td>34084.000000</td>\n",
       "      <td>33425.000000</td>\n",
       "      <td>33642.000000</td>\n",
       "      <td>33913.000000</td>\n",
       "      <td>35013.000000</td>\n",
       "      <td>35011.000000</td>\n",
       "      <td>35011.000000</td>\n",
       "      <td>35009.000000</td>\n",
       "      <td>35015.000000</td>\n",
       "    </tr>\n",
       "    <tr>\n",
       "      <th>mean</th>\n",
       "      <td>17532.500000</td>\n",
       "      <td>2014.662560</td>\n",
       "      <td>6.522930</td>\n",
       "      <td>15.729637</td>\n",
       "      <td>11.500000</td>\n",
       "      <td>69.626367</td>\n",
       "      <td>91.482690</td>\n",
       "      <td>12.121553</td>\n",
       "      <td>32.497250</td>\n",
       "      <td>1022.554545</td>\n",
       "      <td>59.824713</td>\n",
       "      <td>12.445426</td>\n",
       "      <td>1007.598568</td>\n",
       "      <td>2.238619</td>\n",
       "      <td>0.067940</td>\n",
       "      <td>1.652021</td>\n",
       "    </tr>\n",
       "    <tr>\n",
       "      <th>std</th>\n",
       "      <td>10122.249256</td>\n",
       "      <td>1.177213</td>\n",
       "      <td>3.448752</td>\n",
       "      <td>8.800218</td>\n",
       "      <td>6.922285</td>\n",
       "      <td>71.224916</td>\n",
       "      <td>83.289578</td>\n",
       "      <td>18.896912</td>\n",
       "      <td>26.489531</td>\n",
       "      <td>898.738241</td>\n",
       "      <td>54.605746</td>\n",
       "      <td>11.751103</td>\n",
       "      <td>10.022101</td>\n",
       "      <td>14.052541</td>\n",
       "      <td>0.849046</td>\n",
       "      <td>1.199143</td>\n",
       "    </tr>\n",
       "    <tr>\n",
       "      <th>min</th>\n",
       "      <td>1.000000</td>\n",
       "      <td>2013.000000</td>\n",
       "      <td>1.000000</td>\n",
       "      <td>1.000000</td>\n",
       "      <td>0.000000</td>\n",
       "      <td>2.000000</td>\n",
       "      <td>2.000000</td>\n",
       "      <td>0.285600</td>\n",
       "      <td>1.026500</td>\n",
       "      <td>100.000000</td>\n",
       "      <td>0.214200</td>\n",
       "      <td>-19.900000</td>\n",
       "      <td>982.800000</td>\n",
       "      <td>-43.400000</td>\n",
       "      <td>0.000000</td>\n",
       "      <td>0.000000</td>\n",
       "    </tr>\n",
       "    <tr>\n",
       "      <th>25%</th>\n",
       "      <td>8766.750000</td>\n",
       "      <td>2014.000000</td>\n",
       "      <td>4.000000</td>\n",
       "      <td>8.000000</td>\n",
       "      <td>5.750000</td>\n",
       "      <td>17.000000</td>\n",
       "      <td>28.000000</td>\n",
       "      <td>2.000000</td>\n",
       "      <td>12.000000</td>\n",
       "      <td>400.000000</td>\n",
       "      <td>18.000000</td>\n",
       "      <td>2.100000</td>\n",
       "      <td>999.300000</td>\n",
       "      <td>-9.600000</td>\n",
       "      <td>0.000000</td>\n",
       "      <td>0.900000</td>\n",
       "    </tr>\n",
       "    <tr>\n",
       "      <th>50%</th>\n",
       "      <td>17532.500000</td>\n",
       "      <td>2015.000000</td>\n",
       "      <td>7.000000</td>\n",
       "      <td>16.000000</td>\n",
       "      <td>11.500000</td>\n",
       "      <td>47.000000</td>\n",
       "      <td>69.000000</td>\n",
       "      <td>4.000000</td>\n",
       "      <td>25.000000</td>\n",
       "      <td>800.000000</td>\n",
       "      <td>49.000000</td>\n",
       "      <td>13.600000</td>\n",
       "      <td>1007.300000</td>\n",
       "      <td>2.700000</td>\n",
       "      <td>0.000000</td>\n",
       "      <td>1.300000</td>\n",
       "    </tr>\n",
       "    <tr>\n",
       "      <th>75%</th>\n",
       "      <td>26298.250000</td>\n",
       "      <td>2016.000000</td>\n",
       "      <td>10.000000</td>\n",
       "      <td>23.000000</td>\n",
       "      <td>17.250000</td>\n",
       "      <td>98.000000</td>\n",
       "      <td>131.000000</td>\n",
       "      <td>14.000000</td>\n",
       "      <td>46.000000</td>\n",
       "      <td>1300.000000</td>\n",
       "      <td>83.000000</td>\n",
       "      <td>22.300000</td>\n",
       "      <td>1015.500000</td>\n",
       "      <td>15.300000</td>\n",
       "      <td>0.000000</td>\n",
       "      <td>2.000000</td>\n",
       "    </tr>\n",
       "    <tr>\n",
       "      <th>max</th>\n",
       "      <td>35064.000000</td>\n",
       "      <td>2017.000000</td>\n",
       "      <td>12.000000</td>\n",
       "      <td>31.000000</td>\n",
       "      <td>23.000000</td>\n",
       "      <td>762.000000</td>\n",
       "      <td>993.000000</td>\n",
       "      <td>315.000000</td>\n",
       "      <td>231.000000</td>\n",
       "      <td>10000.000000</td>\n",
       "      <td>444.000000</td>\n",
       "      <td>40.300000</td>\n",
       "      <td>1036.500000</td>\n",
       "      <td>29.100000</td>\n",
       "      <td>45.900000</td>\n",
       "      <td>12.900000</td>\n",
       "    </tr>\n",
       "  </tbody>\n",
       "</table>\n",
       "</div>"
      ],
      "text/plain": [
       "                 No          year         month           day          hour  \\\n",
       "count  35064.000000  35064.000000  35064.000000  35064.000000  35064.000000   \n",
       "mean   17532.500000   2014.662560      6.522930     15.729637     11.500000   \n",
       "std    10122.249256      1.177213      3.448752      8.800218      6.922285   \n",
       "min        1.000000   2013.000000      1.000000      1.000000      0.000000   \n",
       "25%     8766.750000   2014.000000      4.000000      8.000000      5.750000   \n",
       "50%    17532.500000   2015.000000      7.000000     16.000000     11.500000   \n",
       "75%    26298.250000   2016.000000     10.000000     23.000000     17.250000   \n",
       "max    35064.000000   2017.000000     12.000000     31.000000     23.000000   \n",
       "\n",
       "              PM2.5          PM10           SO2           NO2            CO  \\\n",
       "count  34111.000000  34287.000000  34084.000000  33425.000000  33642.000000   \n",
       "mean      69.626367     91.482690     12.121553     32.497250   1022.554545   \n",
       "std       71.224916     83.289578     18.896912     26.489531    898.738241   \n",
       "min        2.000000      2.000000      0.285600      1.026500    100.000000   \n",
       "25%       17.000000     28.000000      2.000000     12.000000    400.000000   \n",
       "50%       47.000000     69.000000      4.000000     25.000000    800.000000   \n",
       "75%       98.000000    131.000000     14.000000     46.000000   1300.000000   \n",
       "max      762.000000    993.000000    315.000000    231.000000  10000.000000   \n",
       "\n",
       "                 O3          TEMP          PRES          DEWP          RAIN  \\\n",
       "count  33913.000000  35013.000000  35011.000000  35011.000000  35009.000000   \n",
       "mean      59.824713     12.445426   1007.598568      2.238619      0.067940   \n",
       "std       54.605746     11.751103     10.022101     14.052541      0.849046   \n",
       "min        0.214200    -19.900000    982.800000    -43.400000      0.000000   \n",
       "25%       18.000000      2.100000    999.300000     -9.600000      0.000000   \n",
       "50%       49.000000     13.600000   1007.300000      2.700000      0.000000   \n",
       "75%       83.000000     22.300000   1015.500000     15.300000      0.000000   \n",
       "max      444.000000     40.300000   1036.500000     29.100000     45.900000   \n",
       "\n",
       "               WSPM  \n",
       "count  35015.000000  \n",
       "mean       1.652021  \n",
       "std        1.199143  \n",
       "min        0.000000  \n",
       "25%        0.900000  \n",
       "50%        1.300000  \n",
       "75%        2.000000  \n",
       "max       12.900000  "
      ]
     },
     "execution_count": 12,
     "metadata": {},
     "output_type": "execute_result"
    }
   ],
   "source": [
    "huairou.describe()"
   ]
  },
  {
   "cell_type": "code",
   "execution_count": 13,
   "metadata": {
    "ExecuteTime": {
     "end_time": "2025-02-09T14:42:00.821750Z",
     "start_time": "2025-02-09T14:42:00.810817Z"
    },
    "colab": {
     "base_uri": "https://localhost:8080/",
     "height": 648
    },
    "id": "ln5w3kbPiIyW",
    "outputId": "d3a228d3-17ff-4088-e34b-ef03c4d19b0a"
   },
   "outputs": [
    {
     "data": {
      "text/plain": [
       "No            0\n",
       "year          0\n",
       "month         0\n",
       "day           0\n",
       "hour          0\n",
       "PM2.5       953\n",
       "PM10        777\n",
       "SO2         980\n",
       "NO2        1639\n",
       "CO         1422\n",
       "O3         1151\n",
       "TEMP         51\n",
       "PRES         53\n",
       "DEWP         53\n",
       "RAIN         55\n",
       "wd          302\n",
       "WSPM         49\n",
       "station       0\n",
       "dtype: int64"
      ]
     },
     "execution_count": 13,
     "metadata": {},
     "output_type": "execute_result"
    }
   ],
   "source": [
    "huairou.isna().sum()"
   ]
  },
  {
   "cell_type": "code",
   "execution_count": 14,
   "metadata": {
    "ExecuteTime": {
     "end_time": "2025-02-09T14:42:00.982601Z",
     "start_time": "2025-02-09T14:42:00.950083Z"
    },
    "colab": {
     "base_uri": "https://localhost:8080/",
     "height": 53
    },
    "id": "Z7pd-7ml7Urh",
    "outputId": "095a42e2-4e84-4849-d7a5-6d44e73ce923"
   },
   "outputs": [
    {
     "data": {
      "text/html": [
       "<div>\n",
       "<style scoped>\n",
       "    .dataframe tbody tr th:only-of-type {\n",
       "        vertical-align: middle;\n",
       "    }\n",
       "\n",
       "    .dataframe tbody tr th {\n",
       "        vertical-align: top;\n",
       "    }\n",
       "\n",
       "    .dataframe thead th {\n",
       "        text-align: right;\n",
       "    }\n",
       "</style>\n",
       "<table border=\"1\" class=\"dataframe\">\n",
       "  <thead>\n",
       "    <tr style=\"text-align: right;\">\n",
       "      <th></th>\n",
       "      <th>No</th>\n",
       "      <th>year</th>\n",
       "      <th>month</th>\n",
       "      <th>day</th>\n",
       "      <th>hour</th>\n",
       "      <th>PM2.5</th>\n",
       "      <th>PM10</th>\n",
       "      <th>SO2</th>\n",
       "      <th>NO2</th>\n",
       "      <th>CO</th>\n",
       "      <th>O3</th>\n",
       "      <th>TEMP</th>\n",
       "      <th>PRES</th>\n",
       "      <th>DEWP</th>\n",
       "      <th>RAIN</th>\n",
       "      <th>wd</th>\n",
       "      <th>WSPM</th>\n",
       "      <th>station</th>\n",
       "    </tr>\n",
       "  </thead>\n",
       "  <tbody>\n",
       "  </tbody>\n",
       "</table>\n",
       "</div>"
      ],
      "text/plain": [
       "Empty DataFrame\n",
       "Columns: [No, year, month, day, hour, PM2.5, PM10, SO2, NO2, CO, O3, TEMP, PRES, DEWP, RAIN, wd, WSPM, station]\n",
       "Index: []"
      ]
     },
     "execution_count": 14,
     "metadata": {},
     "output_type": "execute_result"
    }
   ],
   "source": [
    "huairou[huairou.duplicated()]"
   ]
  },
  {
   "cell_type": "code",
   "execution_count": 15,
   "metadata": {
    "ExecuteTime": {
     "end_time": "2025-02-09T14:42:01.132138Z",
     "start_time": "2025-02-09T14:42:01.117260Z"
    }
   },
   "outputs": [
    {
     "name": "stdout",
     "output_type": "stream",
     "text": [
      "<class 'pandas.core.frame.DataFrame'>\n",
      "RangeIndex: 35064 entries, 0 to 35063\n",
      "Data columns (total 18 columns):\n",
      " #   Column   Non-Null Count  Dtype  \n",
      "---  ------   --------------  -----  \n",
      " 0   No       35064 non-null  int64  \n",
      " 1   year     35064 non-null  int64  \n",
      " 2   month    35064 non-null  int64  \n",
      " 3   day      35064 non-null  int64  \n",
      " 4   hour     35064 non-null  int64  \n",
      " 5   PM2.5    34290 non-null  float64\n",
      " 6   PM10     34482 non-null  float64\n",
      " 7   SO2      34436 non-null  float64\n",
      " 8   NO2      34397 non-null  float64\n",
      " 9   CO       33543 non-null  float64\n",
      " 10  O3       34460 non-null  float64\n",
      " 11  TEMP     35011 non-null  float64\n",
      " 12  PRES     35014 non-null  float64\n",
      " 13  DEWP     35011 non-null  float64\n",
      " 14  RAIN     35013 non-null  float64\n",
      " 15  wd       34924 non-null  object \n",
      " 16  WSPM     35021 non-null  float64\n",
      " 17  station  35064 non-null  object \n",
      "dtypes: float64(11), int64(5), object(2)\n",
      "memory usage: 4.8+ MB\n"
     ]
    }
   ],
   "source": [
    "changping.info()"
   ]
  },
  {
   "cell_type": "code",
   "execution_count": 16,
   "metadata": {
    "ExecuteTime": {
     "end_time": "2025-02-09T14:42:01.273068Z",
     "start_time": "2025-02-09T14:42:01.213765Z"
    }
   },
   "outputs": [
    {
     "data": {
      "text/html": [
       "<div>\n",
       "<style scoped>\n",
       "    .dataframe tbody tr th:only-of-type {\n",
       "        vertical-align: middle;\n",
       "    }\n",
       "\n",
       "    .dataframe tbody tr th {\n",
       "        vertical-align: top;\n",
       "    }\n",
       "\n",
       "    .dataframe thead th {\n",
       "        text-align: right;\n",
       "    }\n",
       "</style>\n",
       "<table border=\"1\" class=\"dataframe\">\n",
       "  <thead>\n",
       "    <tr style=\"text-align: right;\">\n",
       "      <th></th>\n",
       "      <th>No</th>\n",
       "      <th>year</th>\n",
       "      <th>month</th>\n",
       "      <th>day</th>\n",
       "      <th>hour</th>\n",
       "      <th>PM2.5</th>\n",
       "      <th>PM10</th>\n",
       "      <th>SO2</th>\n",
       "      <th>NO2</th>\n",
       "      <th>CO</th>\n",
       "      <th>O3</th>\n",
       "      <th>TEMP</th>\n",
       "      <th>PRES</th>\n",
       "      <th>DEWP</th>\n",
       "      <th>RAIN</th>\n",
       "      <th>WSPM</th>\n",
       "    </tr>\n",
       "  </thead>\n",
       "  <tbody>\n",
       "    <tr>\n",
       "      <th>count</th>\n",
       "      <td>35064.000000</td>\n",
       "      <td>35064.000000</td>\n",
       "      <td>35064.000000</td>\n",
       "      <td>35064.000000</td>\n",
       "      <td>35064.000000</td>\n",
       "      <td>34290.000000</td>\n",
       "      <td>34482.000000</td>\n",
       "      <td>34436.000000</td>\n",
       "      <td>34397.000000</td>\n",
       "      <td>33543.000000</td>\n",
       "      <td>34460.000000</td>\n",
       "      <td>35011.000000</td>\n",
       "      <td>35014.000000</td>\n",
       "      <td>35011.000000</td>\n",
       "      <td>35013.000000</td>\n",
       "      <td>35021.000000</td>\n",
       "    </tr>\n",
       "    <tr>\n",
       "      <th>mean</th>\n",
       "      <td>17532.500000</td>\n",
       "      <td>2014.662560</td>\n",
       "      <td>6.522930</td>\n",
       "      <td>15.729637</td>\n",
       "      <td>11.500000</td>\n",
       "      <td>71.099743</td>\n",
       "      <td>94.657871</td>\n",
       "      <td>14.958906</td>\n",
       "      <td>44.182086</td>\n",
       "      <td>1152.301345</td>\n",
       "      <td>57.940003</td>\n",
       "      <td>13.686111</td>\n",
       "      <td>1007.760278</td>\n",
       "      <td>1.505495</td>\n",
       "      <td>0.060366</td>\n",
       "      <td>1.853836</td>\n",
       "    </tr>\n",
       "    <tr>\n",
       "      <th>std</th>\n",
       "      <td>10122.249256</td>\n",
       "      <td>1.177213</td>\n",
       "      <td>3.448752</td>\n",
       "      <td>8.800218</td>\n",
       "      <td>6.922285</td>\n",
       "      <td>72.326926</td>\n",
       "      <td>83.441738</td>\n",
       "      <td>20.975331</td>\n",
       "      <td>29.519796</td>\n",
       "      <td>1103.056282</td>\n",
       "      <td>54.316674</td>\n",
       "      <td>11.365313</td>\n",
       "      <td>10.225664</td>\n",
       "      <td>13.822099</td>\n",
       "      <td>0.752899</td>\n",
       "      <td>1.309808</td>\n",
       "    </tr>\n",
       "    <tr>\n",
       "      <th>min</th>\n",
       "      <td>1.000000</td>\n",
       "      <td>2013.000000</td>\n",
       "      <td>1.000000</td>\n",
       "      <td>1.000000</td>\n",
       "      <td>0.000000</td>\n",
       "      <td>2.000000</td>\n",
       "      <td>2.000000</td>\n",
       "      <td>0.285600</td>\n",
       "      <td>1.847700</td>\n",
       "      <td>100.000000</td>\n",
       "      <td>0.214200</td>\n",
       "      <td>-16.600000</td>\n",
       "      <td>982.400000</td>\n",
       "      <td>-35.100000</td>\n",
       "      <td>0.000000</td>\n",
       "      <td>0.000000</td>\n",
       "    </tr>\n",
       "    <tr>\n",
       "      <th>25%</th>\n",
       "      <td>8766.750000</td>\n",
       "      <td>2014.000000</td>\n",
       "      <td>4.000000</td>\n",
       "      <td>8.000000</td>\n",
       "      <td>5.750000</td>\n",
       "      <td>18.000000</td>\n",
       "      <td>34.000000</td>\n",
       "      <td>2.000000</td>\n",
       "      <td>22.000000</td>\n",
       "      <td>500.000000</td>\n",
       "      <td>15.636600</td>\n",
       "      <td>3.400000</td>\n",
       "      <td>999.300000</td>\n",
       "      <td>-10.200000</td>\n",
       "      <td>0.000000</td>\n",
       "      <td>1.000000</td>\n",
       "    </tr>\n",
       "    <tr>\n",
       "      <th>50%</th>\n",
       "      <td>17532.500000</td>\n",
       "      <td>2015.000000</td>\n",
       "      <td>7.000000</td>\n",
       "      <td>16.000000</td>\n",
       "      <td>11.500000</td>\n",
       "      <td>46.000000</td>\n",
       "      <td>72.000000</td>\n",
       "      <td>7.000000</td>\n",
       "      <td>36.000000</td>\n",
       "      <td>800.000000</td>\n",
       "      <td>46.000000</td>\n",
       "      <td>14.700000</td>\n",
       "      <td>1007.400000</td>\n",
       "      <td>1.800000</td>\n",
       "      <td>0.000000</td>\n",
       "      <td>1.500000</td>\n",
       "    </tr>\n",
       "    <tr>\n",
       "      <th>75%</th>\n",
       "      <td>26298.250000</td>\n",
       "      <td>2016.000000</td>\n",
       "      <td>10.000000</td>\n",
       "      <td>23.000000</td>\n",
       "      <td>17.250000</td>\n",
       "      <td>100.000000</td>\n",
       "      <td>131.000000</td>\n",
       "      <td>18.000000</td>\n",
       "      <td>60.358200</td>\n",
       "      <td>1400.000000</td>\n",
       "      <td>80.000000</td>\n",
       "      <td>23.300000</td>\n",
       "      <td>1016.000000</td>\n",
       "      <td>14.200000</td>\n",
       "      <td>0.000000</td>\n",
       "      <td>2.300000</td>\n",
       "    </tr>\n",
       "    <tr>\n",
       "      <th>max</th>\n",
       "      <td>35064.000000</td>\n",
       "      <td>2017.000000</td>\n",
       "      <td>12.000000</td>\n",
       "      <td>31.000000</td>\n",
       "      <td>23.000000</td>\n",
       "      <td>882.000000</td>\n",
       "      <td>999.000000</td>\n",
       "      <td>310.000000</td>\n",
       "      <td>226.000000</td>\n",
       "      <td>10000.000000</td>\n",
       "      <td>429.000000</td>\n",
       "      <td>41.400000</td>\n",
       "      <td>1036.500000</td>\n",
       "      <td>27.200000</td>\n",
       "      <td>52.100000</td>\n",
       "      <td>10.000000</td>\n",
       "    </tr>\n",
       "  </tbody>\n",
       "</table>\n",
       "</div>"
      ],
      "text/plain": [
       "                 No          year         month           day          hour  \\\n",
       "count  35064.000000  35064.000000  35064.000000  35064.000000  35064.000000   \n",
       "mean   17532.500000   2014.662560      6.522930     15.729637     11.500000   \n",
       "std    10122.249256      1.177213      3.448752      8.800218      6.922285   \n",
       "min        1.000000   2013.000000      1.000000      1.000000      0.000000   \n",
       "25%     8766.750000   2014.000000      4.000000      8.000000      5.750000   \n",
       "50%    17532.500000   2015.000000      7.000000     16.000000     11.500000   \n",
       "75%    26298.250000   2016.000000     10.000000     23.000000     17.250000   \n",
       "max    35064.000000   2017.000000     12.000000     31.000000     23.000000   \n",
       "\n",
       "              PM2.5          PM10           SO2           NO2            CO  \\\n",
       "count  34290.000000  34482.000000  34436.000000  34397.000000  33543.000000   \n",
       "mean      71.099743     94.657871     14.958906     44.182086   1152.301345   \n",
       "std       72.326926     83.441738     20.975331     29.519796   1103.056282   \n",
       "min        2.000000      2.000000      0.285600      1.847700    100.000000   \n",
       "25%       18.000000     34.000000      2.000000     22.000000    500.000000   \n",
       "50%       46.000000     72.000000      7.000000     36.000000    800.000000   \n",
       "75%      100.000000    131.000000     18.000000     60.358200   1400.000000   \n",
       "max      882.000000    999.000000    310.000000    226.000000  10000.000000   \n",
       "\n",
       "                 O3          TEMP          PRES          DEWP          RAIN  \\\n",
       "count  34460.000000  35011.000000  35014.000000  35011.000000  35013.000000   \n",
       "mean      57.940003     13.686111   1007.760278      1.505495      0.060366   \n",
       "std       54.316674     11.365313     10.225664     13.822099      0.752899   \n",
       "min        0.214200    -16.600000    982.400000    -35.100000      0.000000   \n",
       "25%       15.636600      3.400000    999.300000    -10.200000      0.000000   \n",
       "50%       46.000000     14.700000   1007.400000      1.800000      0.000000   \n",
       "75%       80.000000     23.300000   1016.000000     14.200000      0.000000   \n",
       "max      429.000000     41.400000   1036.500000     27.200000     52.100000   \n",
       "\n",
       "               WSPM  \n",
       "count  35021.000000  \n",
       "mean       1.853836  \n",
       "std        1.309808  \n",
       "min        0.000000  \n",
       "25%        1.000000  \n",
       "50%        1.500000  \n",
       "75%        2.300000  \n",
       "max       10.000000  "
      ]
     },
     "execution_count": 16,
     "metadata": {},
     "output_type": "execute_result"
    }
   ],
   "source": [
    "changping.describe()"
   ]
  },
  {
   "cell_type": "code",
   "execution_count": 17,
   "metadata": {
    "ExecuteTime": {
     "end_time": "2025-02-09T14:42:01.370985Z",
     "start_time": "2025-02-09T14:42:01.359213Z"
    }
   },
   "outputs": [
    {
     "data": {
      "text/plain": [
       "No            0\n",
       "year          0\n",
       "month         0\n",
       "day           0\n",
       "hour          0\n",
       "PM2.5       774\n",
       "PM10        582\n",
       "SO2         628\n",
       "NO2         667\n",
       "CO         1521\n",
       "O3          604\n",
       "TEMP         53\n",
       "PRES         50\n",
       "DEWP         53\n",
       "RAIN         51\n",
       "wd          140\n",
       "WSPM         43\n",
       "station       0\n",
       "dtype: int64"
      ]
     },
     "execution_count": 17,
     "metadata": {},
     "output_type": "execute_result"
    }
   ],
   "source": [
    "changping.isna().sum()"
   ]
  },
  {
   "cell_type": "code",
   "execution_count": 18,
   "metadata": {
    "ExecuteTime": {
     "end_time": "2025-02-09T14:42:01.543674Z",
     "start_time": "2025-02-09T14:42:01.511773Z"
    }
   },
   "outputs": [
    {
     "data": {
      "text/html": [
       "<div>\n",
       "<style scoped>\n",
       "    .dataframe tbody tr th:only-of-type {\n",
       "        vertical-align: middle;\n",
       "    }\n",
       "\n",
       "    .dataframe tbody tr th {\n",
       "        vertical-align: top;\n",
       "    }\n",
       "\n",
       "    .dataframe thead th {\n",
       "        text-align: right;\n",
       "    }\n",
       "</style>\n",
       "<table border=\"1\" class=\"dataframe\">\n",
       "  <thead>\n",
       "    <tr style=\"text-align: right;\">\n",
       "      <th></th>\n",
       "      <th>No</th>\n",
       "      <th>year</th>\n",
       "      <th>month</th>\n",
       "      <th>day</th>\n",
       "      <th>hour</th>\n",
       "      <th>PM2.5</th>\n",
       "      <th>PM10</th>\n",
       "      <th>SO2</th>\n",
       "      <th>NO2</th>\n",
       "      <th>CO</th>\n",
       "      <th>O3</th>\n",
       "      <th>TEMP</th>\n",
       "      <th>PRES</th>\n",
       "      <th>DEWP</th>\n",
       "      <th>RAIN</th>\n",
       "      <th>wd</th>\n",
       "      <th>WSPM</th>\n",
       "      <th>station</th>\n",
       "    </tr>\n",
       "  </thead>\n",
       "  <tbody>\n",
       "  </tbody>\n",
       "</table>\n",
       "</div>"
      ],
      "text/plain": [
       "Empty DataFrame\n",
       "Columns: [No, year, month, day, hour, PM2.5, PM10, SO2, NO2, CO, O3, TEMP, PRES, DEWP, RAIN, wd, WSPM, station]\n",
       "Index: []"
      ]
     },
     "execution_count": 18,
     "metadata": {},
     "output_type": "execute_result"
    }
   ],
   "source": [
    "changping[changping.duplicated()]"
   ]
  },
  {
   "cell_type": "code",
   "execution_count": 19,
   "metadata": {
    "ExecuteTime": {
     "end_time": "2025-02-09T14:42:01.700500Z",
     "start_time": "2025-02-09T14:42:01.693744Z"
    },
    "id": "w8fGPLRfirhD"
   },
   "outputs": [],
   "source": [
    "# # Pilih kolom numerik\n",
    "numeric_features = huairou.select_dtypes(include=\"number\").columns"
   ]
  },
  {
   "cell_type": "markdown",
   "metadata": {
    "id": "7dtxhAPrkhPL"
   },
   "source": [
    "**Insight:**\n",
    "- Tipe data sesuai\n",
    "- Tidak ada nilai duplikat yang terdeteksi\n",
    "- Dataset ini tidak memiliki yang tidak relavan\n",
    "- Terdapat nilai yang kosong dalam jumlah yang banyak.\n",
    "- Beberapa fitur memiliki perbedaan selisih nilai yang cukup besar antar quartil 0.25 dengan minimal dan kuartil 0.75 dengan maksimal. Menunjukan adanya outlier yang siginikan\n",
    "- Saya melihat bahwa outlier yang signifikan di satu fitur bersignifikan juga di fitur lain, menandakan bahwa ini bukan kesalahan manusia\n",
    "- Saya menemukan bahwa dataset ini memiliki variabilitas yang tinggi di fitur fitur tertentu seperti PM2.5, PM10, DEWP, O2, CO karena nilai Standar Deviasinya hampir mendekati Mean bahkan ada yang melebihi.\n"
   ]
  },
  {
   "cell_type": "markdown",
   "metadata": {
    "id": "EhN5R4hr8DC1"
   },
   "source": [
    "### Cleaning Data"
   ]
  },
  {
   "cell_type": "code",
   "execution_count": 20,
   "metadata": {
    "ExecuteTime": {
     "end_time": "2025-02-09T14:42:01.810255Z",
     "start_time": "2025-02-09T14:42:01.792014Z"
    }
   },
   "outputs": [],
   "source": [
    "# Hapus nilai kosong\n",
    "huairou.dropna(inplace=True)\n",
    "changping.dropna(inplace=True)"
   ]
  },
  {
   "cell_type": "code",
   "execution_count": 21,
   "metadata": {
    "ExecuteTime": {
     "end_time": "2025-02-09T14:42:01.903811Z",
     "start_time": "2025-02-09T14:42:01.888372Z"
    }
   },
   "outputs": [
    {
     "name": "stdout",
     "output_type": "stream",
     "text": [
      "No         0\n",
      "year       0\n",
      "month      0\n",
      "day        0\n",
      "hour       0\n",
      "PM2.5      0\n",
      "PM10       0\n",
      "SO2        0\n",
      "NO2        0\n",
      "CO         0\n",
      "O3         0\n",
      "TEMP       0\n",
      "PRES       0\n",
      "DEWP       0\n",
      "RAIN       0\n",
      "wd         0\n",
      "WSPM       0\n",
      "station    0\n",
      "dtype: int64\n",
      "--------------------\n",
      "No         0\n",
      "year       0\n",
      "month      0\n",
      "day        0\n",
      "hour       0\n",
      "PM2.5      0\n",
      "PM10       0\n",
      "SO2        0\n",
      "NO2        0\n",
      "CO         0\n",
      "O3         0\n",
      "TEMP       0\n",
      "PRES       0\n",
      "DEWP       0\n",
      "RAIN       0\n",
      "wd         0\n",
      "WSPM       0\n",
      "station    0\n",
      "dtype: int64\n"
     ]
    }
   ],
   "source": [
    "print(huairou.isna().sum())\n",
    "print(\"-\"*20)\n",
    "print(changping.isna().sum())"
   ]
  },
  {
   "cell_type": "markdown",
   "metadata": {
    "id": "Q_5ejIqckiSP"
   },
   "source": [
    "**Insight:**\n",
    "- Tidak ada data duplikat, outlier bukan merupakan kesalahan manusia, semua tipe data cocok dengan fitur. Maka dari itu di proses data cleaning saya  hanya fokus untuk menghapus sample data yang ada nilai hilangnya\n",
    "- Saya memutuskan untuk menghapus nilainya karena saya tidak menemukan rumus untuk imputasi serta jumlah missing valuesnya terlalu kecil jika dibandingkan dengan jumlah sampel datanya, jadi variabilitasnya tidak terlalu menurun"
   ]
  },
  {
   "cell_type": "markdown",
   "metadata": {},
   "source": [
    "## Exploratory Data Analysis (EDA)"
   ]
  },
  {
   "cell_type": "markdown",
   "metadata": {},
   "source": [
    "### Explore ..."
   ]
  },
  {
   "cell_type": "code",
   "execution_count": 22,
   "metadata": {
    "ExecuteTime": {
     "end_time": "2025-02-09T14:42:10.221696Z",
     "start_time": "2025-02-09T14:42:01.946548Z"
    },
    "id": "e9CQCZjk8DC2"
   },
   "outputs": [],
   "source": [
    "POLLUTANT_FEATURES = ['PM2.5', 'PM10', 'SO2', 'NO2', 'CO', 'O3']\n",
    "\n",
    "# Breakpoint mengikuti standa EPA\n",
    "BREAKPOINT = {\n",
    "    'PM2.5': {\n",
    "        \"aqi_interval\": {\n",
    "            \"lower_bound\": [0, 51, 101, 151, 201, 301],\n",
    "            \"upper_bound\": [50, 100, 150, 200, 300, 500]\n",
    "        },\n",
    "        \"poll_interval\": {\n",
    "            \"lower_bound\": [0, 36, 76, 116, 151, 251],\n",
    "            \"upper_bound\": [35, 75, 115, 150, 250, 350]\n",
    "        }\n",
    "    },\n",
    "    'PM10': {\n",
    "        \"aqi_interval\": {\n",
    "            \"lower_bound\": [0, 51, 101, 151, 201, 301],\n",
    "            \"upper_bound\": [50, 100, 150, 200, 300, 500]\n",
    "        },\n",
    "        \"poll_interval\": {\n",
    "            \"lower_bound\": [0, 51, 151, 251, 351, 421],\n",
    "            \"upper_bound\": [50, 150, 250, 350, 420, 600]\n",
    "        }\n",
    "    },\n",
    "    'SO2': {\n",
    "        \"aqi_interval\": {\n",
    "            \"lower_bound\": [0, 51, 101, 151, 201, 301],\n",
    "            \"upper_bound\": [50, 100, 150, 200, 300, 500]\n",
    "        },\n",
    "        \"poll_interval\": {\n",
    "            \"lower_bound\": [0, 51, 151, 476, 801, 1601],\n",
    "            \"upper_bound\": [50, 150, 475, 800, 1600, 2000]\n",
    "        }\n",
    "    },\n",
    "    'NO2': {\n",
    "        \"aqi_interval\": {\n",
    "            \"lower_bound\": [0, 51, 101, 151, 201, 301],\n",
    "            \"upper_bound\": [50, 100, 150, 200, 300, 500]\n",
    "        },\n",
    "        \"poll_interval\": {\n",
    "            \"lower_bound\": [0, 41, 81, 181, 281, 566],\n",
    "            \"upper_bound\": [40, 80, 180, 280, 565, 750]\n",
    "        }\n",
    "    },\n",
    "    'CO': {\n",
    "        \"aqi_interval\": {\n",
    "            \"lower_bound\": [0, 51, 101, 151, 201, 301],\n",
    "            \"upper_bound\": [50, 100, 150, 200, 300, 500]\n",
    "        },\n",
    "        \"poll_interval\": {\n",
    "            \"lower_bound\": [0, 2001, 4001, 14001, 24001, 36001],\n",
    "            \"upper_bound\": [2000, 4000, 14000, 24000, 36000, 50000]\n",
    "        }\n",
    "    },\n",
    "    'O3': {\n",
    "        \"aqi_interval\": {\n",
    "            \"lower_bound\": [0, 51, 101, 151, 201, 301],\n",
    "            \"upper_bound\": [50, 100, 150, 200, 300, 500]\n",
    "        },\n",
    "        \"poll_interval\": {\n",
    "            \"lower_bound\": [0, 101, 161, 216, 266, 801],\n",
    "            \"upper_bound\": [100, 160, 215, 265, 800, 1000]\n",
    "        }\n",
    "    }\n",
    "}\n",
    "\n",
    "def find_ip(feature, conc_pollutant):\n",
    "    try:\n",
    "        # Ambil data breakpoint\n",
    "        aqi_lb = BREAKPOINT[feature][\"aqi_interval\"][\"lower_bound\"]\n",
    "        aqi_ub = BREAKPOINT[feature][\"aqi_interval\"][\"upper_bound\"]\n",
    "        poll_lb = BREAKPOINT[feature][\"poll_interval\"][\"lower_bound\"]\n",
    "        poll_ub = BREAKPOINT[feature][\"poll_interval\"][\"upper_bound\"]\n",
    "\n",
    "        # Inisialisasi dengan interval pertama\n",
    "        aqi_lo = aqi_lb[0]\n",
    "        aqi_hi = aqi_ub[0]\n",
    "        poll_lo = poll_lb[0]\n",
    "        poll_hi = poll_ub[0]\n",
    "\n",
    "        # Cari interval yang sesuai\n",
    "        for i in range(len(aqi_lb)):\n",
    "            if poll_lb[i] <= conc_pollutant <= poll_ub[i]:\n",
    "                aqi_lo = aqi_lb[i]\n",
    "                aqi_hi = aqi_ub[i]\n",
    "                poll_lo = poll_lb[i]\n",
    "                poll_hi = poll_ub[i]\n",
    "                break\n",
    "        else:  # Jika konsentrasi melebihi semua interval\n",
    "            return 500  # Nilai AQI maksimum\n",
    "\n",
    "        # Hitung Index Pollutant\n",
    "        ip = ((aqi_hi - aqi_lo) / (poll_hi - poll_lo)) * (conc_pollutant - poll_lo) + aqi_lo\n",
    "        return round(ip, 2)\n",
    "\n",
    "    except ZeroDivisionError:\n",
    "        return 300\n",
    "\n",
    "    except KeyError:\n",
    "        print(f\"Error: Polutan {feature} tidak terdaftar di BREAKPOINT\")\n",
    "        return 0\n",
    "\n",
    "huairou_aqis = []\n",
    "changping_aqis = []\n",
    "\n",
    "for i in huairou.index:\n",
    "    aqis = []\n",
    "    for feature in POLLUTANT_FEATURES:\n",
    "        conc = huairou.loc[i, feature]\n",
    "\n",
    "        # Skip nilai negatif\n",
    "        if conc < 0:\n",
    "            continue\n",
    "\n",
    "        aqi = find_ip(feature, conc)\n",
    "        aqis.append(aqi)\n",
    "\n",
    "    # Ambil AQI tertinggi\n",
    "    if aqis:\n",
    "        huairou_aqis.append(max(aqis))\n",
    "    else:\n",
    "        huairou_aqis.append(0)  # Fallback jika semua nilai invalid\n",
    "\n",
    "for i in changping.index:\n",
    "    aqis = []\n",
    "    for feature in POLLUTANT_FEATURES:\n",
    "        conc = changping.loc[i, feature]\n",
    "\n",
    "        # Skip nilai negatif\n",
    "        if conc < 0:\n",
    "            continue\n",
    "\n",
    "        aqi = find_ip(feature, conc)\n",
    "        aqis.append(aqi)\n",
    "\n",
    "    # Ambil AQI tertinggi\n",
    "    if aqis:\n",
    "        changping_aqis.append(max(aqis))\n",
    "    else:\n",
    "        changping_aqis.append(0)  # Fallback jika semua nilai invalid\n",
    "\n",
    "\n",
    "huairou[\"AQI\"] = huairou_aqis\n",
    "changping[\"AQI\"] = changping_aqis\n"
   ]
  },
  {
   "cell_type": "code",
   "execution_count": 23,
   "metadata": {
    "ExecuteTime": {
     "end_time": "2025-02-09T14:42:10.287235Z",
     "start_time": "2025-02-09T14:42:10.257236Z"
    }
   },
   "outputs": [],
   "source": [
    "huairou['time'] = pd.to_datetime(huairou[['year', 'month', 'day', 'hour']]) # Menggabungkan fitur waktu\n",
    "changping['time'] = pd.to_datetime(changping[['year', 'month', 'day', 'hour']])\n",
    "huairou.drop(columns=[\"No\", 'year', 'month', 'day', 'hour'], inplace=True) # Menghapus fitur waktu sebelumnya dan fitu no\n",
    "changping.drop(columns=[\"No\", 'year', 'month', 'day', 'hour'], inplace=True)\n",
    "huairou.reset_index(drop=True, inplace=True)\n",
    "changping.reset_index(drop=True, inplace=True)"
   ]
  },
  {
   "cell_type": "code",
   "execution_count": 24,
   "metadata": {
    "ExecuteTime": {
     "end_time": "2025-02-09T14:42:10.333140Z",
     "start_time": "2025-02-09T14:42:10.322878Z"
    }
   },
   "outputs": [],
   "source": [
    "assemble = pd.concat([huairou, changping], axis=0)"
   ]
  },
  {
   "cell_type": "code",
   "execution_count": 25,
   "metadata": {
    "ExecuteTime": {
     "end_time": "2025-02-09T14:42:10.389287Z",
     "start_time": "2025-02-09T14:42:10.367775Z"
    }
   },
   "outputs": [
    {
     "data": {
      "text/html": [
       "<div>\n",
       "<style scoped>\n",
       "    .dataframe tbody tr th:only-of-type {\n",
       "        vertical-align: middle;\n",
       "    }\n",
       "\n",
       "    .dataframe tbody tr th {\n",
       "        vertical-align: top;\n",
       "    }\n",
       "\n",
       "    .dataframe thead th {\n",
       "        text-align: right;\n",
       "    }\n",
       "</style>\n",
       "<table border=\"1\" class=\"dataframe\">\n",
       "  <thead>\n",
       "    <tr style=\"text-align: right;\">\n",
       "      <th></th>\n",
       "      <th>PM2.5</th>\n",
       "      <th>PM10</th>\n",
       "      <th>SO2</th>\n",
       "      <th>NO2</th>\n",
       "      <th>CO</th>\n",
       "      <th>O3</th>\n",
       "      <th>TEMP</th>\n",
       "      <th>PRES</th>\n",
       "      <th>DEWP</th>\n",
       "      <th>RAIN</th>\n",
       "      <th>wd</th>\n",
       "      <th>WSPM</th>\n",
       "      <th>station</th>\n",
       "      <th>AQI</th>\n",
       "      <th>time</th>\n",
       "    </tr>\n",
       "  </thead>\n",
       "  <tbody>\n",
       "    <tr>\n",
       "      <th>0</th>\n",
       "      <td>7.0</td>\n",
       "      <td>7.0</td>\n",
       "      <td>3.0</td>\n",
       "      <td>2.0</td>\n",
       "      <td>100.0</td>\n",
       "      <td>91.0</td>\n",
       "      <td>-2.3</td>\n",
       "      <td>1020.3</td>\n",
       "      <td>-20.7</td>\n",
       "      <td>0.0</td>\n",
       "      <td>WNW</td>\n",
       "      <td>3.1</td>\n",
       "      <td>Huairou</td>\n",
       "      <td>45.5</td>\n",
       "      <td>2013-03-01 00:00:00</td>\n",
       "    </tr>\n",
       "    <tr>\n",
       "      <th>1</th>\n",
       "      <td>4.0</td>\n",
       "      <td>4.0</td>\n",
       "      <td>3.0</td>\n",
       "      <td>3.0</td>\n",
       "      <td>200.0</td>\n",
       "      <td>85.0</td>\n",
       "      <td>-4.2</td>\n",
       "      <td>1022.3</td>\n",
       "      <td>-24.5</td>\n",
       "      <td>0.0</td>\n",
       "      <td>N</td>\n",
       "      <td>4.3</td>\n",
       "      <td>Huairou</td>\n",
       "      <td>42.5</td>\n",
       "      <td>2013-03-01 05:00:00</td>\n",
       "    </tr>\n",
       "    <tr>\n",
       "      <th>2</th>\n",
       "      <td>3.0</td>\n",
       "      <td>6.0</td>\n",
       "      <td>33.0</td>\n",
       "      <td>7.0</td>\n",
       "      <td>300.0</td>\n",
       "      <td>82.0</td>\n",
       "      <td>-5.9</td>\n",
       "      <td>1023.1</td>\n",
       "      <td>-21.9</td>\n",
       "      <td>0.0</td>\n",
       "      <td>WNW</td>\n",
       "      <td>0.6</td>\n",
       "      <td>Huairou</td>\n",
       "      <td>41.0</td>\n",
       "      <td>2013-03-01 06:00:00</td>\n",
       "    </tr>\n",
       "    <tr>\n",
       "      <th>3</th>\n",
       "      <td>3.0</td>\n",
       "      <td>10.0</td>\n",
       "      <td>13.0</td>\n",
       "      <td>13.0</td>\n",
       "      <td>400.0</td>\n",
       "      <td>71.0</td>\n",
       "      <td>-2.7</td>\n",
       "      <td>1024.3</td>\n",
       "      <td>-23.2</td>\n",
       "      <td>0.0</td>\n",
       "      <td>NNE</td>\n",
       "      <td>3.4</td>\n",
       "      <td>Huairou</td>\n",
       "      <td>35.5</td>\n",
       "      <td>2013-03-01 07:00:00</td>\n",
       "    </tr>\n",
       "    <tr>\n",
       "      <th>4</th>\n",
       "      <td>3.0</td>\n",
       "      <td>13.0</td>\n",
       "      <td>34.0</td>\n",
       "      <td>38.0</td>\n",
       "      <td>800.0</td>\n",
       "      <td>45.0</td>\n",
       "      <td>-1.6</td>\n",
       "      <td>1025.2</td>\n",
       "      <td>-23.5</td>\n",
       "      <td>0.0</td>\n",
       "      <td>NNE</td>\n",
       "      <td>4.6</td>\n",
       "      <td>Huairou</td>\n",
       "      <td>47.5</td>\n",
       "      <td>2013-03-01 08:00:00</td>\n",
       "    </tr>\n",
       "  </tbody>\n",
       "</table>\n",
       "</div>"
      ],
      "text/plain": [
       "   PM2.5  PM10   SO2   NO2     CO    O3  TEMP    PRES  DEWP  RAIN   wd  WSPM  \\\n",
       "0    7.0   7.0   3.0   2.0  100.0  91.0  -2.3  1020.3 -20.7   0.0  WNW   3.1   \n",
       "1    4.0   4.0   3.0   3.0  200.0  85.0  -4.2  1022.3 -24.5   0.0    N   4.3   \n",
       "2    3.0   6.0  33.0   7.0  300.0  82.0  -5.9  1023.1 -21.9   0.0  WNW   0.6   \n",
       "3    3.0  10.0  13.0  13.0  400.0  71.0  -2.7  1024.3 -23.2   0.0  NNE   3.4   \n",
       "4    3.0  13.0  34.0  38.0  800.0  45.0  -1.6  1025.2 -23.5   0.0  NNE   4.6   \n",
       "\n",
       "   station   AQI                time  \n",
       "0  Huairou  45.5 2013-03-01 00:00:00  \n",
       "1  Huairou  42.5 2013-03-01 05:00:00  \n",
       "2  Huairou  41.0 2013-03-01 06:00:00  \n",
       "3  Huairou  35.5 2013-03-01 07:00:00  \n",
       "4  Huairou  47.5 2013-03-01 08:00:00  "
      ]
     },
     "execution_count": 25,
     "metadata": {},
     "output_type": "execute_result"
    }
   ],
   "source": [
    "huairou.head()"
   ]
  },
  {
   "cell_type": "code",
   "execution_count": 26,
   "metadata": {
    "ExecuteTime": {
     "end_time": "2025-02-09T14:42:10.490010Z",
     "start_time": "2025-02-09T14:42:10.468756Z"
    }
   },
   "outputs": [
    {
     "data": {
      "text/html": [
       "<div>\n",
       "<style scoped>\n",
       "    .dataframe tbody tr th:only-of-type {\n",
       "        vertical-align: middle;\n",
       "    }\n",
       "\n",
       "    .dataframe tbody tr th {\n",
       "        vertical-align: top;\n",
       "    }\n",
       "\n",
       "    .dataframe thead th {\n",
       "        text-align: right;\n",
       "    }\n",
       "</style>\n",
       "<table border=\"1\" class=\"dataframe\">\n",
       "  <thead>\n",
       "    <tr style=\"text-align: right;\">\n",
       "      <th></th>\n",
       "      <th>PM2.5</th>\n",
       "      <th>PM10</th>\n",
       "      <th>SO2</th>\n",
       "      <th>NO2</th>\n",
       "      <th>CO</th>\n",
       "      <th>O3</th>\n",
       "      <th>TEMP</th>\n",
       "      <th>PRES</th>\n",
       "      <th>DEWP</th>\n",
       "      <th>RAIN</th>\n",
       "      <th>wd</th>\n",
       "      <th>WSPM</th>\n",
       "      <th>station</th>\n",
       "      <th>AQI</th>\n",
       "      <th>time</th>\n",
       "    </tr>\n",
       "  </thead>\n",
       "  <tbody>\n",
       "    <tr>\n",
       "      <th>0</th>\n",
       "      <td>3.0</td>\n",
       "      <td>6.0</td>\n",
       "      <td>13.0</td>\n",
       "      <td>7.0</td>\n",
       "      <td>300.0</td>\n",
       "      <td>85.0</td>\n",
       "      <td>-2.3</td>\n",
       "      <td>1020.8</td>\n",
       "      <td>-19.7</td>\n",
       "      <td>0.0</td>\n",
       "      <td>E</td>\n",
       "      <td>0.5</td>\n",
       "      <td>Changping</td>\n",
       "      <td>42.5</td>\n",
       "      <td>2013-03-01 00:00:00</td>\n",
       "    </tr>\n",
       "    <tr>\n",
       "      <th>1</th>\n",
       "      <td>3.0</td>\n",
       "      <td>3.0</td>\n",
       "      <td>6.0</td>\n",
       "      <td>6.0</td>\n",
       "      <td>300.0</td>\n",
       "      <td>85.0</td>\n",
       "      <td>-2.5</td>\n",
       "      <td>1021.3</td>\n",
       "      <td>-19.0</td>\n",
       "      <td>0.0</td>\n",
       "      <td>ENE</td>\n",
       "      <td>0.7</td>\n",
       "      <td>Changping</td>\n",
       "      <td>42.5</td>\n",
       "      <td>2013-03-01 01:00:00</td>\n",
       "    </tr>\n",
       "    <tr>\n",
       "      <th>2</th>\n",
       "      <td>3.0</td>\n",
       "      <td>3.0</td>\n",
       "      <td>22.0</td>\n",
       "      <td>13.0</td>\n",
       "      <td>400.0</td>\n",
       "      <td>74.0</td>\n",
       "      <td>-3.0</td>\n",
       "      <td>1021.3</td>\n",
       "      <td>-19.9</td>\n",
       "      <td>0.0</td>\n",
       "      <td>ENE</td>\n",
       "      <td>0.2</td>\n",
       "      <td>Changping</td>\n",
       "      <td>37.0</td>\n",
       "      <td>2013-03-01 02:00:00</td>\n",
       "    </tr>\n",
       "    <tr>\n",
       "      <th>3</th>\n",
       "      <td>3.0</td>\n",
       "      <td>6.0</td>\n",
       "      <td>12.0</td>\n",
       "      <td>8.0</td>\n",
       "      <td>300.0</td>\n",
       "      <td>81.0</td>\n",
       "      <td>-3.6</td>\n",
       "      <td>1021.8</td>\n",
       "      <td>-19.1</td>\n",
       "      <td>0.0</td>\n",
       "      <td>NNE</td>\n",
       "      <td>1.0</td>\n",
       "      <td>Changping</td>\n",
       "      <td>40.5</td>\n",
       "      <td>2013-03-01 03:00:00</td>\n",
       "    </tr>\n",
       "    <tr>\n",
       "      <th>4</th>\n",
       "      <td>3.0</td>\n",
       "      <td>3.0</td>\n",
       "      <td>14.0</td>\n",
       "      <td>8.0</td>\n",
       "      <td>300.0</td>\n",
       "      <td>81.0</td>\n",
       "      <td>-3.5</td>\n",
       "      <td>1022.3</td>\n",
       "      <td>-19.4</td>\n",
       "      <td>0.0</td>\n",
       "      <td>N</td>\n",
       "      <td>2.1</td>\n",
       "      <td>Changping</td>\n",
       "      <td>40.5</td>\n",
       "      <td>2013-03-01 04:00:00</td>\n",
       "    </tr>\n",
       "  </tbody>\n",
       "</table>\n",
       "</div>"
      ],
      "text/plain": [
       "   PM2.5  PM10   SO2   NO2     CO    O3  TEMP    PRES  DEWP  RAIN   wd  WSPM  \\\n",
       "0    3.0   6.0  13.0   7.0  300.0  85.0  -2.3  1020.8 -19.7   0.0    E   0.5   \n",
       "1    3.0   3.0   6.0   6.0  300.0  85.0  -2.5  1021.3 -19.0   0.0  ENE   0.7   \n",
       "2    3.0   3.0  22.0  13.0  400.0  74.0  -3.0  1021.3 -19.9   0.0  ENE   0.2   \n",
       "3    3.0   6.0  12.0   8.0  300.0  81.0  -3.6  1021.8 -19.1   0.0  NNE   1.0   \n",
       "4    3.0   3.0  14.0   8.0  300.0  81.0  -3.5  1022.3 -19.4   0.0    N   2.1   \n",
       "\n",
       "     station   AQI                time  \n",
       "0  Changping  42.5 2013-03-01 00:00:00  \n",
       "1  Changping  42.5 2013-03-01 01:00:00  \n",
       "2  Changping  37.0 2013-03-01 02:00:00  \n",
       "3  Changping  40.5 2013-03-01 03:00:00  \n",
       "4  Changping  40.5 2013-03-01 04:00:00  "
      ]
     },
     "execution_count": 26,
     "metadata": {},
     "output_type": "execute_result"
    }
   ],
   "source": [
    "changping.head()"
   ]
  },
  {
   "cell_type": "code",
   "execution_count": 27,
   "metadata": {
    "ExecuteTime": {
     "end_time": "2025-02-09T14:42:10.613647Z",
     "start_time": "2025-02-09T14:42:10.591830Z"
    }
   },
   "outputs": [
    {
     "data": {
      "text/html": [
       "<div>\n",
       "<style scoped>\n",
       "    .dataframe tbody tr th:only-of-type {\n",
       "        vertical-align: middle;\n",
       "    }\n",
       "\n",
       "    .dataframe tbody tr th {\n",
       "        vertical-align: top;\n",
       "    }\n",
       "\n",
       "    .dataframe thead th {\n",
       "        text-align: right;\n",
       "    }\n",
       "</style>\n",
       "<table border=\"1\" class=\"dataframe\">\n",
       "  <thead>\n",
       "    <tr style=\"text-align: right;\">\n",
       "      <th></th>\n",
       "      <th>PM2.5</th>\n",
       "      <th>PM10</th>\n",
       "      <th>SO2</th>\n",
       "      <th>NO2</th>\n",
       "      <th>CO</th>\n",
       "      <th>O3</th>\n",
       "      <th>TEMP</th>\n",
       "      <th>PRES</th>\n",
       "      <th>DEWP</th>\n",
       "      <th>RAIN</th>\n",
       "      <th>wd</th>\n",
       "      <th>WSPM</th>\n",
       "      <th>station</th>\n",
       "      <th>AQI</th>\n",
       "      <th>time</th>\n",
       "    </tr>\n",
       "  </thead>\n",
       "  <tbody>\n",
       "    <tr>\n",
       "      <th>0</th>\n",
       "      <td>7.0</td>\n",
       "      <td>7.0</td>\n",
       "      <td>3.0</td>\n",
       "      <td>2.0</td>\n",
       "      <td>100.0</td>\n",
       "      <td>91.0</td>\n",
       "      <td>-2.3</td>\n",
       "      <td>1020.3</td>\n",
       "      <td>-20.7</td>\n",
       "      <td>0.0</td>\n",
       "      <td>WNW</td>\n",
       "      <td>3.1</td>\n",
       "      <td>Huairou</td>\n",
       "      <td>45.5</td>\n",
       "      <td>2013-03-01 00:00:00</td>\n",
       "    </tr>\n",
       "    <tr>\n",
       "      <th>1</th>\n",
       "      <td>4.0</td>\n",
       "      <td>4.0</td>\n",
       "      <td>3.0</td>\n",
       "      <td>3.0</td>\n",
       "      <td>200.0</td>\n",
       "      <td>85.0</td>\n",
       "      <td>-4.2</td>\n",
       "      <td>1022.3</td>\n",
       "      <td>-24.5</td>\n",
       "      <td>0.0</td>\n",
       "      <td>N</td>\n",
       "      <td>4.3</td>\n",
       "      <td>Huairou</td>\n",
       "      <td>42.5</td>\n",
       "      <td>2013-03-01 05:00:00</td>\n",
       "    </tr>\n",
       "    <tr>\n",
       "      <th>2</th>\n",
       "      <td>3.0</td>\n",
       "      <td>6.0</td>\n",
       "      <td>33.0</td>\n",
       "      <td>7.0</td>\n",
       "      <td>300.0</td>\n",
       "      <td>82.0</td>\n",
       "      <td>-5.9</td>\n",
       "      <td>1023.1</td>\n",
       "      <td>-21.9</td>\n",
       "      <td>0.0</td>\n",
       "      <td>WNW</td>\n",
       "      <td>0.6</td>\n",
       "      <td>Huairou</td>\n",
       "      <td>41.0</td>\n",
       "      <td>2013-03-01 06:00:00</td>\n",
       "    </tr>\n",
       "    <tr>\n",
       "      <th>3</th>\n",
       "      <td>3.0</td>\n",
       "      <td>10.0</td>\n",
       "      <td>13.0</td>\n",
       "      <td>13.0</td>\n",
       "      <td>400.0</td>\n",
       "      <td>71.0</td>\n",
       "      <td>-2.7</td>\n",
       "      <td>1024.3</td>\n",
       "      <td>-23.2</td>\n",
       "      <td>0.0</td>\n",
       "      <td>NNE</td>\n",
       "      <td>3.4</td>\n",
       "      <td>Huairou</td>\n",
       "      <td>35.5</td>\n",
       "      <td>2013-03-01 07:00:00</td>\n",
       "    </tr>\n",
       "    <tr>\n",
       "      <th>4</th>\n",
       "      <td>3.0</td>\n",
       "      <td>13.0</td>\n",
       "      <td>34.0</td>\n",
       "      <td>38.0</td>\n",
       "      <td>800.0</td>\n",
       "      <td>45.0</td>\n",
       "      <td>-1.6</td>\n",
       "      <td>1025.2</td>\n",
       "      <td>-23.5</td>\n",
       "      <td>0.0</td>\n",
       "      <td>NNE</td>\n",
       "      <td>4.6</td>\n",
       "      <td>Huairou</td>\n",
       "      <td>47.5</td>\n",
       "      <td>2013-03-01 08:00:00</td>\n",
       "    </tr>\n",
       "  </tbody>\n",
       "</table>\n",
       "</div>"
      ],
      "text/plain": [
       "   PM2.5  PM10   SO2   NO2     CO    O3  TEMP    PRES  DEWP  RAIN   wd  WSPM  \\\n",
       "0    7.0   7.0   3.0   2.0  100.0  91.0  -2.3  1020.3 -20.7   0.0  WNW   3.1   \n",
       "1    4.0   4.0   3.0   3.0  200.0  85.0  -4.2  1022.3 -24.5   0.0    N   4.3   \n",
       "2    3.0   6.0  33.0   7.0  300.0  82.0  -5.9  1023.1 -21.9   0.0  WNW   0.6   \n",
       "3    3.0  10.0  13.0  13.0  400.0  71.0  -2.7  1024.3 -23.2   0.0  NNE   3.4   \n",
       "4    3.0  13.0  34.0  38.0  800.0  45.0  -1.6  1025.2 -23.5   0.0  NNE   4.6   \n",
       "\n",
       "   station   AQI                time  \n",
       "0  Huairou  45.5 2013-03-01 00:00:00  \n",
       "1  Huairou  42.5 2013-03-01 05:00:00  \n",
       "2  Huairou  41.0 2013-03-01 06:00:00  \n",
       "3  Huairou  35.5 2013-03-01 07:00:00  \n",
       "4  Huairou  47.5 2013-03-01 08:00:00  "
      ]
     },
     "execution_count": 27,
     "metadata": {},
     "output_type": "execute_result"
    }
   ],
   "source": [
    "assemble.head()"
   ]
  },
  {
   "cell_type": "markdown",
   "metadata": {
    "id": "th_Lzl2Fkj9O"
   },
   "source": [
    "**Insight:**\n",
    "- Setelah melakukan explorasi saya memutuskan untuk membuat fitur baru bernama AQI memang dataset ini memiliki informasi yang emang dibuat khusus untuk membuaat fitur AQI.\n",
    "- Saya menggabungkan fitur tahun, bulan, jam, dan hari. Karena supaya lebih simpel dan mudah untuk diaksesnya\n",
    "- Saya melakukan drop pada fitur No karena sudah tidak relavan karena terjadi data cleaning. Serta pada dashboard pun sudah disediakan no, jadi saya menghapusnya karena tidak berguna dan malah membuat dataset ini menjadi tidak simpel.\n",
    "- Dataset Changping dan Hairou digabungkan dengan alasan kedua dataset tersebut memiliki fitur yang sama, dan tujuan yang sama."
   ]
  },
  {
   "cell_type": "markdown",
   "metadata": {
    "id": "zsyZjqak8DC2"
   },
   "source": [
    "## Visualization & Explanatory Analysis"
   ]
  },
  {
   "cell_type": "markdown",
   "metadata": {
    "id": "HZxOiQ6n8DC2"
   },
   "source": [
    "### Pertanyaan 1: Bagaimana kualitas udara di lokasi Huairou dari waktu ke waktu?"
   ]
  },
  {
   "cell_type": "code",
   "execution_count": 28,
   "metadata": {
    "ExecuteTime": {
     "end_time": "2025-02-09T14:42:11.116115Z",
     "start_time": "2025-02-09T14:42:10.788299Z"
    },
    "colab": {
     "base_uri": "https://localhost:8080/",
     "height": 607
    },
    "id": "lwyHeyKSua80",
    "outputId": "17a9bb24-f471-475e-fda6-71d812717f90"
   },
   "outputs": [
    {
     "data": {
      "image/png": "[encoded data removed]",
      "text/plain": [
       "<Figure size 1000x600 with 1 Axes>"
      ]
     },
     "metadata": {},
     "output_type": "display_data"
    }
   ],
   "source": [
    "# Hitung rata-rata AQI berdasarkan kombinasi tahun-bulan pada kolom 'time'\n",
    "monthly_avg = huairou.groupby(huairou['time'].dt.to_period('M')).mean(numeric_only=True)\n",
    "\n",
    "# Reset index agar lebih mudah diakses\n",
    "monthly_avg.reset_index(inplace=True)\n",
    "\n",
    "# Ubah index dari period ke timestamp untuk visualisasi\n",
    "monthly_avg['time'] = monthly_avg['time'].dt.to_timestamp()\n",
    "\n",
    "# Visualisasi rata-rata line chart\n",
    "plt.figure(figsize=(10, 6))\n",
    "plt.plot(monthly_avg['time'], monthly_avg['AQI'], marker='o', color='b', linestyle='-')\n",
    "plt.title(\"Perubahan Rata-Rata Bulanan AQI dari tahun ke tahun di Huarou\", fontsize=16)\n",
    "plt.xlabel('Waktu (Tahun - Bulan)', fontsize=12)\n",
    "plt.ylabel('Rata-Rata AQI', fontsize=12)\n",
    "plt.grid(alpha=0.5)\n",
    "plt.xticks(rotation=45)  # Memiringkan label x-axis agar mudah dibaca\n",
    "plt.tight_layout()\n",
    "plt.show()"
   ]
  },
  {
   "cell_type": "code",
   "execution_count": 29,
   "metadata": {
    "ExecuteTime": {
     "end_time": "2025-02-09T14:42:11.478508Z",
     "start_time": "2025-02-09T14:42:11.172760Z"
    }
   },
   "outputs": [
    {
     "data": {
      "image/png": "[encoded data removed]",
      "text/plain": [
       "<Figure size 1000x600 with 1 Axes>"
      ]
     },
     "metadata": {},
     "output_type": "display_data"
    }
   ],
   "source": [
    "# Hitung rata-rata AQI berdasarkan kombinasi tahun-bulan pada kolom 'time'\n",
    "monthly_avg = changping.groupby(changping['time'].dt.to_period('M')).mean(numeric_only=True)\n",
    "\n",
    "# Reset index agar lebih mudah diakses\n",
    "monthly_avg.reset_index(inplace=True)\n",
    "\n",
    "# Ubah index dari period ke timestamp untuk visualisasi\n",
    "monthly_avg['time'] = monthly_avg['time'].dt.to_timestamp()\n",
    "\n",
    "# Visualisasi rata-rata line chart\n",
    "plt.figure(figsize=(10, 6))\n",
    "plt.plot(monthly_avg['time'], monthly_avg['AQI'], marker='o', color='b', linestyle='-')\n",
    "plt.title(\"Perubahan Rata-Rata Bulanan AQI dari tahun ke tahun di Changping\", fontsize=16)\n",
    "plt.xlabel('Waktu (Tahun - Bulan)', fontsize=12)\n",
    "plt.ylabel('Rata-Rata AQI', fontsize=12)\n",
    "plt.grid(alpha=0.5)\n",
    "plt.xticks(rotation=45)  # Memiringkan label x-axis agar mudah dibaca\n",
    "plt.tight_layout()\n",
    "plt.show()\n"
   ]
  },
  {
   "cell_type": "markdown",
   "metadata": {
    "id": "DgHI7CiU8DC2"
   },
   "source": [
    "### Pertanyaan 2: Bagaimana korelasi fitur fitur polutan udara dengan dengan fitur fitur metorologi?"
   ]
  },
  {
   "cell_type": "code",
   "execution_count": 30,
   "metadata": {
    "ExecuteTime": {
     "end_time": "2025-02-09T14:44:34.926429Z",
     "start_time": "2025-02-09T14:44:34.752250Z"
    },
    "colab": {
     "base_uri": "https://localhost:8080/",
     "height": 721
    },
    "id": "fEVSF1Q3s45F",
    "outputId": "0cb45dee-070f-44f5-838d-c478adcb883d"
   },
   "outputs": [
    {
     "data": {
      "image/png": "[encoded data removed]",
      "text/plain": [
       "<Figure size 1000x600 with 1 Axes>"
      ]
     },
     "metadata": {},
     "output_type": "display_data"
    }
   ],
   "source": [
    "METEOROLOGIES = [\"TEMP\", \"PRES\", \"DEWP\", \"RAIN\", \"WSPM\", \"AQI\"] #AQI tidak termasuk\n",
    "\n",
    "corr_matrix = assemble[METEOROLOGIES].corr()  # Matriks korelasi\n",
    "target_corr = corr_matrix['AQI'].drop('AQI')  # Korelasi dengan AQI, kecuali AQI itu sendiri\n",
    "\n",
    "plt.figure(figsize=(10, 6))\n",
    "target_corr.plot(kind='bar')\n",
    "plt.title(f'Correlation with AQI')\n",
    "plt.xlabel('Variables')\n",
    "plt.ylabel('Correlation Coefficient')\n",
    "plt.show()"
   ]
  },
  {
   "cell_type": "markdown",
   "metadata": {
    "id": "LNiT4rw60FFN"
   },
   "source": [
    "### Pertanyaan 3: Jam berapa biasanya kualitas udara menjadi buruk? Apakah waktunya bertepatan saat waktu produktif manusia (pagi - sore)?"
   ]
  },
  {
   "cell_type": "code",
   "execution_count": 31,
   "metadata": {
    "ExecuteTime": {
     "end_time": "2025-02-09T14:42:12.005791Z",
     "start_time": "2025-02-09T14:42:11.696463Z"
    },
    "colab": {
     "base_uri": "https://localhost:8080/",
     "height": 607
    },
    "id": "22Z7I8cJ1F45",
    "outputId": "b37b9205-fdfb-4a61-933b-781a8ebd4f56"
   },
   "outputs": [
    {
     "data": {
      "image/png": "[encoded data removed]",
      "text/plain": [
       "<Figure size 1000x600 with 1 Axes>"
      ]
     },
     "metadata": {},
     "output_type": "display_data"
    }
   ],
   "source": [
    "# Ekstrak jam dari kolom waktu\n",
    "assemble[\"hour\"] = assemble['time'].dt.hour\n",
    "\n",
    "# Hitung rata-rata AQI berdasarkan jam (tanpa memperhatikan bulan/tahun)\n",
    "hour_avg = assemble.groupby('hour')['AQI'].median().reset_index()\n",
    "\n",
    "# Visualisasi rata-rata AQI per jam\n",
    "plt.figure(figsize=(10, 6))\n",
    "plt.plot(hour_avg['hour'], hour_avg['AQI'], marker='o', color='b', linestyle='-')\n",
    "assemble.drop(columns='hour', inplace=True)\n",
    "plt.title('Rata-Rata AQI Berdasarkan Jam', fontsize=16)\n",
    "plt.xlabel('Jam (0-23)', fontsize=12)\n",
    "plt.ylabel('Rata-Rata AQI', fontsize=12)\n",
    "plt.grid(alpha=0.5)\n",
    "plt.xticks(range(len(hour_avg)))\n",
    "plt.tight_layout()\n",
    "plt.show()"
   ]
  },
  {
   "cell_type": "markdown",
   "metadata": {
    "id": "_0-36BDLklRg"
   },
   "source": [
    "**Insight:**\n",
    "- Pertanyaan 1: Visualisasi ini menunjukan downtrend di kedua lokasi terjadi lower high dan lower low, menunjukan terdapat langkah yang baik bagi masyarakat disekatar stasiun tersebut meskipun bisa dibilang nilai all time low 2015 masih terbilang nilai AQI yang sedang, gak baik baik banget dan gak buruk buruk banget. All time high menunjukkan angka disekitar 180 pada tahun 2014 ini cukup tinggi. Saat saya serching buruknya nilai AQI di tahun 2014 dan baiknya AQI pada tahun 2015 di beijing ini cukup masuk akal karena info yang saya dapat benar bahwa 2014 cukup parah nilai AQI nya dan 2015 nya juga tercatat memang benar rata rata rendah. Dari info info ini bisa disimpulkan bahwa masyarat di tahun 2014 mendapatkan dampak dari AQI yang tinggi ini mulai kapok hingga pada tahun 2015 terjadi langkah langkah yang baik bagi penurunan AQI.\n",
    "- Pertanyaan 2: Diantara kelimat tersebut WSPM adalah fitur meteorologi dengan korelasi tertinggi menunjukan angka disekitaran -0.15. Ini cukup masuk akal karena WSPM merepresentasikan kecepatan udara dapat menyebarluaskan udara kotor yang terfokus ke satu lokasi saja menyebar ke beberapa lokasi menyebabkan nilai AQI menurun seiring naiknya nilai WSPM. Fitur dengan nilai korelasi kedua tertinggi adalah DEWP lagi lagi ini cukup masuk akal karena DEWP atau titik embun kedua tertinggi adalah DEWP lagi lagi ini cukup masuk akal karena DEWP atau titik embun jika nilainya naik fitur PM2.5 dan PM10 dapat menyerap uap air dan bertambah besar ukurannya. Partikel yang lebih besar ini bisa bertahan lebih lama di atmosfer, meningkatkan konsentrasi polutan. Untuk fitur meteorologi seperti rain menunjukan korelasi negatif, press korelasi negatif dan temp berkorelasi negatif, masuk akal.\n",
    "- Pertanyaan 3: Titik terendah AQI menunjukan angka disekitar 90 pada jam 06:00 sebelum nilainya naik. Titik tertinggi AQI menunjukan angka disekitar 120 pada jam 19:00 sebelum nilainya turun. Ini menunjukkan bahwa aktivitas manusia berpengaruh terhadap tinggi atau rendahnyanilai AQI. Dikarenakan aktivitas manusia diluar ruangan secara umum dimulai pada pagi hari dan pulang ke rumah pada malam hari didukung dengan metode 896 di China yang menurut sistem tersebut beberapa perusahaan mengharuskan pekerja memulai pekerjaan pada jam 08:00 hingga hingga jam 19:00. Seperti yang anda lihat pada jam 06:00 nilai AQI mulai naik menunjukkan aktivitas manusia dimulai seperti transportasi bensin, udara pabrik, dsb. Dan terus naik pada jam 19:00 kemungkinan mayoritas manusia sedang dalam perjalanan pulang sebelum jam 19:00 hingga pada 19:00 kemungkinan mayoritas manusia sudah istirahat. Kesimpulannya bahwa aktivitas manusia berpengaruh."
   ]
  },
  {
   "cell_type": "markdown",
   "metadata": {
    "id": "9y4VUsmcYNZ5"
   },
   "source": [
    "## Analisis Lanjutan (Opsional)"
   ]
  },
  {
   "cell_type": "markdown",
   "metadata": {},
   "source": [
    "**Alasan:** Lebih mudah dicerna oleh orang awam, dan lebih reprensentatif. Serta saya ingin melihat kategori mana yang paling banyak"
   ]
  },
  {
   "cell_type": "code",
   "execution_count": 32,
   "metadata": {
    "ExecuteTime": {
     "end_time": "2025-02-09T14:42:12.053623Z",
     "start_time": "2025-02-09T14:42:12.041994Z"
    },
    "id": "iWhnzsJGYUCO"
   },
   "outputs": [
    {
     "data": {
      "text/plain": [
       "Classification\n",
       "Sedang                21052\n",
       "Baik                  17689\n",
       "Tidak Sehat           17099\n",
       "Sangat Tidak Sehat     6491\n",
       "Bahaya                 2058\n",
       "Name: count, dtype: int64"
      ]
     },
     "execution_count": 32,
     "metadata": {},
     "output_type": "execute_result"
    }
   ],
   "source": [
    "# Definisi interval dan label\n",
    "bins = [0, 50, 100, 200, 300, float('inf')]\n",
    "labels = ['Baik', 'Sedang', 'Tidak Sehat', 'Sangat Tidak Sehat', 'Bahaya']\n",
    "\n",
    "# Membuat kolom baru\n",
    "assemble['Classification'] = pd.cut(\n",
    "    assemble['AQI'],\n",
    "    bins=bins,\n",
    "    labels=labels,\n",
    "    right=False\n",
    ")\n",
    "\n",
    "assemble[\"Classification\"].value_counts()"
   ]
  },
  {
   "cell_type": "code",
   "execution_count": 33,
   "metadata": {
    "ExecuteTime": {
     "end_time": "2025-02-09T14:42:12.874883Z",
     "start_time": "2025-02-09T14:42:12.129575Z"
    }
   },
   "outputs": [],
   "source": [
    "\n",
    "assemble.to_csv(\"./dashboard/assemble.csv\", index=False)"
   ]
  },
  {
   "cell_type": "code",
   "execution_count": 34,
   "metadata": {
    "ExecuteTime": {
     "end_time": "2025-02-09T14:42:12.929473Z",
     "start_time": "2025-02-09T14:42:12.919063Z"
    }
   },
   "outputs": [
    {
     "data": {
      "text/plain": [
       "['Changping', 'Huairou']"
      ]
     },
     "execution_count": 34,
     "metadata": {},
     "output_type": "execute_result"
    }
   ],
   "source": [
    "assemble[\"station\"].value_counts().index.tolist()"
   ]
  },
  {
   "cell_type": "markdown",
   "metadata": {},
   "source": [
    "## Conclusion"
   ]
  },
  {
   "cell_type": "markdown",
   "metadata": {
    "id": "ZTcyR48Y8DC2"
   },
   "source": [
    "- Saya memilih 2 dataset yaitu Huairou dan Changping, kedua dataset tersebut memiliki informasi yang menarik untuk dilakukan analisis data kualitas udara di stasiun. Meskipun dataset tersebut perlu dibersihkan terlebih dahulu karena terdapat missing values.\n",
    "- Visualisasi data dapat menjawab pertanyaan pertanyaan binis dengan benar dan menghasilkan insight yang sangat menarik.\n",
    "- Secara keseluruhn kualitas udara di kedua lokasi tersebut sangat memprihatinkan meskipun secara tahun demi tahun menunjukan penurunan."
   ]
  }
 ],
 "metadata": {
  "colab": {
   "provenance": []
  },
  "kernelspec": {
   "display_name": "analisis_data",
   "language": "python",
   "name": "python3"
  },
  "language_info": {
   "codemirror_mode": {
    "name": "ipython",
    "version": 3
   },
   "file_extension": ".py",
   "mimetype": "text/x-python",
   "name": "python",
   "nbconvert_exporter": "python",
   "pygments_lexer": "ipython3",
   "version": "3.12.9"
  },
  "orig_nbformat": 4
 },
 "nbformat": 4,
 "nbformat_minor": 0
}
